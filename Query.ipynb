{
 "cells": [
  {
   "cell_type": "code",
   "execution_count": 36,
   "metadata": {
    "collapsed": true
   },
   "outputs": [],
   "source": [
    "import pandas as pd\n",
    "import os\n",
    "import sys"
   ]
  },
  {
   "cell_type": "code",
   "execution_count": 37,
   "metadata": {
    "collapsed": true
   },
   "outputs": [],
   "source": [
    "#consulta original\n",
    "palabra = ['SELECT',\n",
    " 'emp.ename',\n",
    " 'FROM',\n",
    " 'emp,',\n",
    " 'asg,',\n",
    " 'proj',\n",
    " 'WHERE',\n",
    " 'emp.eno=asg.eno',\n",
    " 'AND',\n",
    " 'asg.pno=proj.pno',\n",
    " 'AND',\n",
    " \"proj.pname='cad/cam'\"]\n"
   ]
  },
  {
   "cell_type": "code",
   "execution_count": 38,
   "metadata": {
    "collapsed": false
   },
   "outputs": [],
   "source": [
    "def imprimir(pila):\n",
    "    temp = pila\n",
    "    while not temp.isEmpty():\n",
    "        print temp.pop()"
   ]
  },
  {
   "cell_type": "code",
   "execution_count": 39,
   "metadata": {
    "collapsed": true
   },
   "outputs": [],
   "source": [
    "class Stack:\n",
    "     def __init__(self):\n",
    "         self.items = []\n",
    "\n",
    "     def isEmpty(self):\n",
    "         return self.items == []\n",
    "\n",
    "     def push(self, item):\n",
    "         self.items.append(item)\n",
    "\n",
    "     def pop(self):\n",
    "        \"\"\" Devuelve el elemento tope y lo elimina de la pila.\n",
    "            Si la pila esta vacia levanta excepción\"\"\"\n",
    "        try:\n",
    "         return self.items.pop()\n",
    "        except IndexError:\n",
    "            raise ValueError(\"LA PILA ESTA VACIA\")\n",
    "     def peek(self):\n",
    "         return self.items[len(self.items)-1]\n",
    "\n",
    "     def size(self):\n",
    "         return len(self.items)\n",
    "     \n",
    "    "
   ]
  },
  {
   "cell_type": "code",
   "execution_count": 40,
   "metadata": {
    "collapsed": true
   },
   "outputs": [],
   "source": [
    "#llenas la pila con la consulta\n",
    "def consulta(elementos):\n",
    "    resultado = None\n",
    "    p = Stack()\n",
    "    m = Stack()\n",
    "    for elemento in elementos:\n",
    "        if elemento not in [\"SELECT\",\"FROM\",\"WHERE\",\"AND\"]:\n",
    "            p.push(elemento)\n",
    "        elif elemento  in [\"SELECT\",\"FROM\",\"WHERE\",\"AND\"]:\n",
    "            next\n",
    "    return p\n",
    "       \n",
    "        "
   ]
  },
  {
   "cell_type": "code",
   "execution_count": 134,
   "metadata": {
    "collapsed": false
   },
   "outputs": [
    {
     "name": "stdout",
     "output_type": "stream",
     "text": [
      "proj.pname='cad/cam'\n",
      "asg.pno=proj.pno\n",
      "emp.eno=asg.eno\n",
      "proj\n",
      "asg,\n",
      "emp,\n",
      "emp.ename\n"
     ]
    }
   ],
   "source": [
    "#imprimir pila llena, con compia 'temp'\n",
    "pila = consulta(palabra)\n",
    "\n",
    "temp = pila\n",
    "imprimir(temp)"
   ]
  },
  {
   "cell_type": "code",
   "execution_count": 114,
   "metadata": {
    "collapsed": false
   },
   "outputs": [
    {
     "name": "stdout",
     "output_type": "stream",
     "text": [
      "['proj', \"pname='cad/cam'\"]\n"
     ]
    }
   ],
   "source": [
    "#saca primer valor de la pila \n",
    "\n",
    "A = pila.pop().split(\".\")\n",
    "print A\n",
    "(campo,valor) = A[1].split(\"=\")\n",
    "\n",
    "proj=pd.read_csv(A[0]+'.csv',index_col='pno')\n",
    "jvar= proj[proj[campo].str.contains(valor)]\n"
   ]
  },
  {
   "cell_type": "code",
   "execution_count": 135,
   "metadata": {
    "collapsed": false
   },
   "outputs": [
    {
     "data": {
      "text/plain": [
       "\"'p3'\""
      ]
     },
     "execution_count": 135,
     "metadata": {},
     "output_type": "execute_result"
    }
   ],
   "source": [
    "#regresa valor 'p3'\n",
    "llave = jvar.index.values[0]\n",
    "llave"
   ]
  },
  {
   "cell_type": "code",
   "execution_count": 116,
   "metadata": {
    "collapsed": false
   },
   "outputs": [
    {
     "name": "stdout",
     "output_type": "stream",
     "text": [
      "['asg', 'pno=proj', 'pno']\n",
      "pno proj\n"
     ]
    },
    {
     "data": {
      "text/html": [
       "<div>\n",
       "<table border=\"1\" class=\"dataframe\">\n",
       "  <thead>\n",
       "    <tr style=\"text-align: right;\">\n",
       "      <th></th>\n",
       "      <th>pno</th>\n",
       "      <th>resp</th>\n",
       "      <th>dur</th>\n",
       "    </tr>\n",
       "    <tr>\n",
       "      <th>eno</th>\n",
       "      <th></th>\n",
       "      <th></th>\n",
       "      <th></th>\n",
       "    </tr>\n",
       "  </thead>\n",
       "  <tbody>\n",
       "    <tr>\n",
       "      <th>e1</th>\n",
       "      <td>'p1'</td>\n",
       "      <td>'Manager'</td>\n",
       "      <td>'12'</td>\n",
       "    </tr>\n",
       "    <tr>\n",
       "      <th>e2</th>\n",
       "      <td>'p1'</td>\n",
       "      <td>'Analyst'</td>\n",
       "      <td>'24'</td>\n",
       "    </tr>\n",
       "    <tr>\n",
       "      <th>e2</th>\n",
       "      <td>'p2'</td>\n",
       "      <td>'Analyst'</td>\n",
       "      <td>'6'</td>\n",
       "    </tr>\n",
       "    <tr>\n",
       "      <th>e3</th>\n",
       "      <td>'p3'</td>\n",
       "      <td>'Consultant'</td>\n",
       "      <td>'10'</td>\n",
       "    </tr>\n",
       "    <tr>\n",
       "      <th>e3</th>\n",
       "      <td>'p4'</td>\n",
       "      <td>'Enginner'</td>\n",
       "      <td>'48'</td>\n",
       "    </tr>\n",
       "    <tr>\n",
       "      <th>e4</th>\n",
       "      <td>'p2'</td>\n",
       "      <td>'Programmer'</td>\n",
       "      <td>'18'</td>\n",
       "    </tr>\n",
       "    <tr>\n",
       "      <th>e5</th>\n",
       "      <td>'p2'</td>\n",
       "      <td>'Manager'</td>\n",
       "      <td>'24'</td>\n",
       "    </tr>\n",
       "    <tr>\n",
       "      <th>e6</th>\n",
       "      <td>'p4'</td>\n",
       "      <td>'Manager'</td>\n",
       "      <td>'48'</td>\n",
       "    </tr>\n",
       "    <tr>\n",
       "      <th>e7</th>\n",
       "      <td>'p3'</td>\n",
       "      <td>'Enginner'</td>\n",
       "      <td>'36'</td>\n",
       "    </tr>\n",
       "    <tr>\n",
       "      <th>e8</th>\n",
       "      <td>'p3'</td>\n",
       "      <td>'Manager'</td>\n",
       "      <td>'40'</td>\n",
       "    </tr>\n",
       "  </tbody>\n",
       "</table>\n",
       "</div>"
      ],
      "text/plain": [
       "      pno          resp   dur\n",
       "eno                          \n",
       "e1   'p1'     'Manager'  '12'\n",
       "e2   'p1'     'Analyst'  '24'\n",
       "e2   'p2'     'Analyst'   '6'\n",
       "e3   'p3'  'Consultant'  '10'\n",
       "e3   'p4'    'Enginner'  '48'\n",
       "e4   'p2'  'Programmer'  '18'\n",
       "e5   'p2'     'Manager'  '24'\n",
       "e6   'p4'     'Manager'  '48'\n",
       "e7   'p3'    'Enginner'  '36'\n",
       "e8   'p3'     'Manager'  '40'"
      ]
     },
     "execution_count": 116,
     "metadata": {},
     "output_type": "execute_result"
    }
   ],
   "source": [
    "#saca el segundo valor de la pila \n",
    "\n",
    "B = pila.pop().split(\".\")\n",
    "print B\n",
    "\n",
    "(campo,valor) = B[1].split(\"=\")\n",
    "print campo,valor\n",
    "asg=pd.read_csv(B[0]+'.csv',index_col='eno')\n",
    "asg\n",
    "\n"
   ]
  },
  {
   "cell_type": "code",
   "execution_count": 117,
   "metadata": {
    "collapsed": false
   },
   "outputs": [
    {
     "name": "stdout",
     "output_type": "stream",
     "text": [
      "pno proj\n"
     ]
    },
    {
     "data": {
      "text/html": [
       "<div>\n",
       "<table border=\"1\" class=\"dataframe\">\n",
       "  <thead>\n",
       "    <tr style=\"text-align: right;\">\n",
       "      <th></th>\n",
       "      <th>pno</th>\n",
       "      <th>resp</th>\n",
       "      <th>dur</th>\n",
       "    </tr>\n",
       "    <tr>\n",
       "      <th>eno</th>\n",
       "      <th></th>\n",
       "      <th></th>\n",
       "      <th></th>\n",
       "    </tr>\n",
       "  </thead>\n",
       "  <tbody>\n",
       "    <tr>\n",
       "      <th>e3</th>\n",
       "      <td>'p3'</td>\n",
       "      <td>'Consultant'</td>\n",
       "      <td>'10'</td>\n",
       "    </tr>\n",
       "    <tr>\n",
       "      <th>e7</th>\n",
       "      <td>'p3'</td>\n",
       "      <td>'Enginner'</td>\n",
       "      <td>'36'</td>\n",
       "    </tr>\n",
       "    <tr>\n",
       "      <th>e8</th>\n",
       "      <td>'p3'</td>\n",
       "      <td>'Manager'</td>\n",
       "      <td>'40'</td>\n",
       "    </tr>\n",
       "  </tbody>\n",
       "</table>\n",
       "</div>"
      ],
      "text/plain": [
       "      pno          resp   dur\n",
       "eno                          \n",
       "e3   'p3'  'Consultant'  '10'\n",
       "e7   'p3'    'Enginner'  '36'\n",
       "e8   'p3'     'Manager'  '40'"
      ]
     },
     "execution_count": 117,
     "metadata": {},
     "output_type": "execute_result"
    }
   ],
   "source": [
    "#nos reduce la tabla asg a los valores que coinciden con la llave\n",
    "\n",
    "print campo,valor\n",
    "gvar = asg[asg[campo].str.contains(llave)]\n",
    "gvar"
   ]
  },
  {
   "cell_type": "code",
   "execution_count": 130,
   "metadata": {
    "collapsed": false
   },
   "outputs": [
    {
     "data": {
      "text/plain": [
       "array(['e3', 'e7', 'e8'], dtype=object)"
      ]
     },
     "execution_count": 130,
     "metadata": {},
     "output_type": "execute_result"
    }
   ],
   "source": [
    "#valores sin dependencia de otras tablas en una lista\n",
    "keys = gvar.index.values \n",
    "keys"
   ]
  },
  {
   "cell_type": "code",
   "execution_count": 131,
   "metadata": {
    "collapsed": false
   },
   "outputs": [],
   "source": [
    "#cargar tabla emp\n",
    "emp=pd.read_csv('emp.csv',delimiter=',')"
   ]
  },
  {
   "cell_type": "code",
   "execution_count": 132,
   "metadata": {
    "collapsed": false
   },
   "outputs": [
    {
     "name": "stdout",
     "output_type": "stream",
     "text": [
      "Select ename from emp where eno= e3\n",
      "  eno     ename         title\n",
      "2  e3  'A. Lee'  'Mech. Eng.'\n",
      "Select ename from emp where eno= e7\n",
      "  eno       ename         title\n",
      "6  e7  'R. Davis'  'Mech. Eng.'\n",
      "Select ename from emp where eno= e8\n",
      "  eno       ename          title\n",
      "7  e8  'J. Jones'  'Syst. Anal.'\n"
     ]
    }
   ],
   "source": [
    "#escribir la consulta de dependencia simple\n",
    "for i in keys:\n",
    "    a = emp.loc[emp['eno'] == i]\n",
    "    print \"Select ename from emp where eno=\",i\n",
    "    print a\n",
    "    "
   ]
  },
  {
   "cell_type": "code",
   "execution_count": null,
   "metadata": {
    "collapsed": true
   },
   "outputs": [],
   "source": []
  },
  {
   "cell_type": "code",
   "execution_count": null,
   "metadata": {
    "collapsed": true
   },
   "outputs": [],
   "source": []
  },
  {
   "cell_type": "code",
   "execution_count": null,
   "metadata": {
    "collapsed": true
   },
   "outputs": [],
   "source": []
  },
  {
   "cell_type": "code",
   "execution_count": null,
   "metadata": {
    "collapsed": true
   },
   "outputs": [],
   "source": []
  }
 ],
 "metadata": {
  "anaconda-cloud": {},
  "kernelspec": {
   "display_name": "Python [default]",
   "language": "python",
   "name": "python2"
  },
  "language_info": {
   "codemirror_mode": {
    "name": "ipython",
    "version": 2
   },
   "file_extension": ".py",
   "mimetype": "text/x-python",
   "name": "python",
   "nbconvert_exporter": "python",
   "pygments_lexer": "ipython2",
   "version": "2.7.13"
  }
 },
 "nbformat": 4,
 "nbformat_minor": 2
}
